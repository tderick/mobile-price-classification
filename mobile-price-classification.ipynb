{
 "cells": [
  {
   "cell_type": "markdown",
   "id": "228826f8-fcea-49bf-85cd-2401c5a83853",
   "metadata": {
    "tags": []
   },
   "source": [
    "# **Learn K-Nearest Neighbor (KNN) with Mobile Price Classification dataset**\n",
    "This dataset comes from [Kaggle](https://www.kaggle.com/iabhishekofficial/mobile-price-classification?select=test.csv). His main purpose is to classify mobile phones into different price ranges based on their features (eg: RAM, battery power, etc).\n",
    "\n",
    "This dataset has two files:\n",
    "- **train.csv** which contains 20 features and 1 target variable which is __price_range__\n",
    "- **test.csv** which contains 20 features\n",
    "\n",
    "In this tutorial, we will explore KNN algorithm using **train.csv** file."
   ]
  },
  {
   "cell_type": "markdown",
   "id": "57541f37-830b-4816-968e-4c41bc47bc85",
   "metadata": {},
   "source": [
    "## 1.Import data\n",
    "The first thing we need to do is to import our data from a CSV file to a pandas DataFrame."
   ]
  },
  {
   "cell_type": "code",
   "execution_count": 3,
   "id": "a04c203c-5a0f-4b9c-8f14-fe335b7b6ebc",
   "metadata": {},
   "outputs": [
    {
     "data": {
      "application/com.datacamp.data-table.v1+json": {
       "is_truncated": false,
       "table": {
        "data": [
         {
          "battery_power": 842,
          "blue": 0,
          "clock_speed": 2.2,
          "dual_sim": 0,
          "fc": 1,
          "four_g": 0,
          "index": 0,
          "int_memory": 7,
          "m_dep": 0.6,
          "mobile_wt": 188,
          "n_cores": 2,
          "pc": 2,
          "price_range": 1,
          "px_height": 20,
          "px_width": 756,
          "ram": 2549,
          "sc_h": 9,
          "sc_w": 7,
          "talk_time": 19,
          "three_g": 0,
          "touch_screen": 0,
          "wifi": 1
         },
         {
          "battery_power": 1021,
          "blue": 1,
          "clock_speed": 0.5,
          "dual_sim": 1,
          "fc": 0,
          "four_g": 1,
          "index": 1,
          "int_memory": 53,
          "m_dep": 0.7,
          "mobile_wt": 136,
          "n_cores": 3,
          "pc": 6,
          "price_range": 2,
          "px_height": 905,
          "px_width": 1988,
          "ram": 2631,
          "sc_h": 17,
          "sc_w": 3,
          "talk_time": 7,
          "three_g": 1,
          "touch_screen": 1,
          "wifi": 0
         },
         {
          "battery_power": 563,
          "blue": 1,
          "clock_speed": 0.5,
          "dual_sim": 1,
          "fc": 2,
          "four_g": 1,
          "index": 2,
          "int_memory": 41,
          "m_dep": 0.9,
          "mobile_wt": 145,
          "n_cores": 5,
          "pc": 6,
          "price_range": 2,
          "px_height": 1263,
          "px_width": 1716,
          "ram": 2603,
          "sc_h": 11,
          "sc_w": 2,
          "talk_time": 9,
          "three_g": 1,
          "touch_screen": 1,
          "wifi": 0
         },
         {
          "battery_power": 615,
          "blue": 1,
          "clock_speed": 2.5,
          "dual_sim": 0,
          "fc": 0,
          "four_g": 0,
          "index": 3,
          "int_memory": 10,
          "m_dep": 0.8,
          "mobile_wt": 131,
          "n_cores": 6,
          "pc": 9,
          "price_range": 2,
          "px_height": 1216,
          "px_width": 1786,
          "ram": 2769,
          "sc_h": 16,
          "sc_w": 8,
          "talk_time": 11,
          "three_g": 1,
          "touch_screen": 0,
          "wifi": 0
         },
         {
          "battery_power": 1821,
          "blue": 1,
          "clock_speed": 1.2,
          "dual_sim": 0,
          "fc": 13,
          "four_g": 1,
          "index": 4,
          "int_memory": 44,
          "m_dep": 0.6,
          "mobile_wt": 141,
          "n_cores": 2,
          "pc": 14,
          "price_range": 1,
          "px_height": 1208,
          "px_width": 1212,
          "ram": 1411,
          "sc_h": 8,
          "sc_w": 2,
          "talk_time": 15,
          "three_g": 1,
          "touch_screen": 1,
          "wifi": 0
         }
        ],
        "schema": {
         "fields": [
          {
           "name": "index",
           "type": "integer"
          },
          {
           "name": "battery_power",
           "type": "integer"
          },
          {
           "name": "blue",
           "type": "integer"
          },
          {
           "name": "clock_speed",
           "type": "number"
          },
          {
           "name": "dual_sim",
           "type": "integer"
          },
          {
           "name": "fc",
           "type": "integer"
          },
          {
           "name": "four_g",
           "type": "integer"
          },
          {
           "name": "int_memory",
           "type": "integer"
          },
          {
           "name": "m_dep",
           "type": "number"
          },
          {
           "name": "mobile_wt",
           "type": "integer"
          },
          {
           "name": "n_cores",
           "type": "integer"
          },
          {
           "name": "pc",
           "type": "integer"
          },
          {
           "name": "px_height",
           "type": "integer"
          },
          {
           "name": "px_width",
           "type": "integer"
          },
          {
           "name": "ram",
           "type": "integer"
          },
          {
           "name": "sc_h",
           "type": "integer"
          },
          {
           "name": "sc_w",
           "type": "integer"
          },
          {
           "name": "talk_time",
           "type": "integer"
          },
          {
           "name": "three_g",
           "type": "integer"
          },
          {
           "name": "touch_screen",
           "type": "integer"
          },
          {
           "name": "wifi",
           "type": "integer"
          },
          {
           "name": "price_range",
           "type": "integer"
          }
         ],
         "pandas_version": "0.20.0",
         "primaryKey": [
          "index"
         ]
        }
       },
       "total_rows": 5
      },
      "text/html": [
       "<div>\n",
       "<style scoped>\n",
       "    .dataframe tbody tr th:only-of-type {\n",
       "        vertical-align: middle;\n",
       "    }\n",
       "\n",
       "    .dataframe tbody tr th {\n",
       "        vertical-align: top;\n",
       "    }\n",
       "\n",
       "    .dataframe thead th {\n",
       "        text-align: right;\n",
       "    }\n",
       "</style>\n",
       "<table border=\"1\" class=\"dataframe\">\n",
       "  <thead>\n",
       "    <tr style=\"text-align: right;\">\n",
       "      <th></th>\n",
       "      <th>battery_power</th>\n",
       "      <th>blue</th>\n",
       "      <th>clock_speed</th>\n",
       "      <th>dual_sim</th>\n",
       "      <th>fc</th>\n",
       "      <th>four_g</th>\n",
       "      <th>int_memory</th>\n",
       "      <th>m_dep</th>\n",
       "      <th>mobile_wt</th>\n",
       "      <th>n_cores</th>\n",
       "      <th>...</th>\n",
       "      <th>px_height</th>\n",
       "      <th>px_width</th>\n",
       "      <th>ram</th>\n",
       "      <th>sc_h</th>\n",
       "      <th>sc_w</th>\n",
       "      <th>talk_time</th>\n",
       "      <th>three_g</th>\n",
       "      <th>touch_screen</th>\n",
       "      <th>wifi</th>\n",
       "      <th>price_range</th>\n",
       "    </tr>\n",
       "  </thead>\n",
       "  <tbody>\n",
       "    <tr>\n",
       "      <th>0</th>\n",
       "      <td>842</td>\n",
       "      <td>0</td>\n",
       "      <td>2.2</td>\n",
       "      <td>0</td>\n",
       "      <td>1</td>\n",
       "      <td>0</td>\n",
       "      <td>7</td>\n",
       "      <td>0.6</td>\n",
       "      <td>188</td>\n",
       "      <td>2</td>\n",
       "      <td>...</td>\n",
       "      <td>20</td>\n",
       "      <td>756</td>\n",
       "      <td>2549</td>\n",
       "      <td>9</td>\n",
       "      <td>7</td>\n",
       "      <td>19</td>\n",
       "      <td>0</td>\n",
       "      <td>0</td>\n",
       "      <td>1</td>\n",
       "      <td>1</td>\n",
       "    </tr>\n",
       "    <tr>\n",
       "      <th>1</th>\n",
       "      <td>1021</td>\n",
       "      <td>1</td>\n",
       "      <td>0.5</td>\n",
       "      <td>1</td>\n",
       "      <td>0</td>\n",
       "      <td>1</td>\n",
       "      <td>53</td>\n",
       "      <td>0.7</td>\n",
       "      <td>136</td>\n",
       "      <td>3</td>\n",
       "      <td>...</td>\n",
       "      <td>905</td>\n",
       "      <td>1988</td>\n",
       "      <td>2631</td>\n",
       "      <td>17</td>\n",
       "      <td>3</td>\n",
       "      <td>7</td>\n",
       "      <td>1</td>\n",
       "      <td>1</td>\n",
       "      <td>0</td>\n",
       "      <td>2</td>\n",
       "    </tr>\n",
       "    <tr>\n",
       "      <th>2</th>\n",
       "      <td>563</td>\n",
       "      <td>1</td>\n",
       "      <td>0.5</td>\n",
       "      <td>1</td>\n",
       "      <td>2</td>\n",
       "      <td>1</td>\n",
       "      <td>41</td>\n",
       "      <td>0.9</td>\n",
       "      <td>145</td>\n",
       "      <td>5</td>\n",
       "      <td>...</td>\n",
       "      <td>1263</td>\n",
       "      <td>1716</td>\n",
       "      <td>2603</td>\n",
       "      <td>11</td>\n",
       "      <td>2</td>\n",
       "      <td>9</td>\n",
       "      <td>1</td>\n",
       "      <td>1</td>\n",
       "      <td>0</td>\n",
       "      <td>2</td>\n",
       "    </tr>\n",
       "    <tr>\n",
       "      <th>3</th>\n",
       "      <td>615</td>\n",
       "      <td>1</td>\n",
       "      <td>2.5</td>\n",
       "      <td>0</td>\n",
       "      <td>0</td>\n",
       "      <td>0</td>\n",
       "      <td>10</td>\n",
       "      <td>0.8</td>\n",
       "      <td>131</td>\n",
       "      <td>6</td>\n",
       "      <td>...</td>\n",
       "      <td>1216</td>\n",
       "      <td>1786</td>\n",
       "      <td>2769</td>\n",
       "      <td>16</td>\n",
       "      <td>8</td>\n",
       "      <td>11</td>\n",
       "      <td>1</td>\n",
       "      <td>0</td>\n",
       "      <td>0</td>\n",
       "      <td>2</td>\n",
       "    </tr>\n",
       "    <tr>\n",
       "      <th>4</th>\n",
       "      <td>1821</td>\n",
       "      <td>1</td>\n",
       "      <td>1.2</td>\n",
       "      <td>0</td>\n",
       "      <td>13</td>\n",
       "      <td>1</td>\n",
       "      <td>44</td>\n",
       "      <td>0.6</td>\n",
       "      <td>141</td>\n",
       "      <td>2</td>\n",
       "      <td>...</td>\n",
       "      <td>1208</td>\n",
       "      <td>1212</td>\n",
       "      <td>1411</td>\n",
       "      <td>8</td>\n",
       "      <td>2</td>\n",
       "      <td>15</td>\n",
       "      <td>1</td>\n",
       "      <td>1</td>\n",
       "      <td>0</td>\n",
       "      <td>1</td>\n",
       "    </tr>\n",
       "  </tbody>\n",
       "</table>\n",
       "<p>5 rows × 21 columns</p>\n",
       "</div>"
      ],
      "text/plain": [
       "   battery_power  blue  clock_speed  dual_sim  fc  four_g  int_memory  m_dep  \\\n",
       "0            842     0          2.2         0   1       0           7    0.6   \n",
       "1           1021     1          0.5         1   0       1          53    0.7   \n",
       "2            563     1          0.5         1   2       1          41    0.9   \n",
       "3            615     1          2.5         0   0       0          10    0.8   \n",
       "4           1821     1          1.2         0  13       1          44    0.6   \n",
       "\n",
       "   mobile_wt  n_cores  ...  px_height  px_width   ram  sc_h  sc_w  talk_time  \\\n",
       "0        188        2  ...         20       756  2549     9     7         19   \n",
       "1        136        3  ...        905      1988  2631    17     3          7   \n",
       "2        145        5  ...       1263      1716  2603    11     2          9   \n",
       "3        131        6  ...       1216      1786  2769    16     8         11   \n",
       "4        141        2  ...       1208      1212  1411     8     2         15   \n",
       "\n",
       "   three_g  touch_screen  wifi  price_range  \n",
       "0        0             0     1            1  \n",
       "1        1             1     0            2  \n",
       "2        1             1     0            2  \n",
       "3        1             0     0            2  \n",
       "4        1             1     0            1  \n",
       "\n",
       "[5 rows x 21 columns]"
      ]
     },
     "execution_count": 3,
     "metadata": {},
     "output_type": "execute_result"
    }
   ],
   "source": [
    "import pandas as pd\n",
    "data = pd.read_csv('train.csv')\n",
    "data.head()"
   ]
  },
  {
   "cell_type": "markdown",
   "id": "1ca5507d-2ef2-4a43-ae90-7c082c748e69",
   "metadata": {},
   "source": [
    "This data has **21 columns** where **20 columns** are features and the columns price_range is the target. So we will train our model to predict price_range base on feature variables. Let's split our data into the feature and the target variable. Scikit-learn works with numeric data stored as **NumPy array, Scipy sparse matrices, or pandas DataFrame**."
   ]
  },
  {
   "cell_type": "code",
   "execution_count": 4,
   "id": "8d886fa7-9598-4402-a746-f8c5e4504a29",
   "metadata": {},
   "outputs": [],
   "source": [
    "X = data.drop(columns=\"price_range\")\n",
    "y = data['price_range']"
   ]
  },
  {
   "cell_type": "markdown",
   "id": "24b15add-98e6-4b3a-9adb-050d0bedd6f5",
   "metadata": {},
   "source": [
    "## 2. Split data into train/test set"
   ]
  },
  {
   "cell_type": "markdown",
   "id": "3075c349-b57d-455b-815b-e20483fa1801",
   "metadata": {},
   "source": [
    "To be able to evaluate well our model, we will split our data into **train** and **test** sets. This will allow us to better evaluate our model with data that we know the result. Once our model will be well train with the best parameters, then we'll use it to predict the target of data in the **test.csv** that we don't know what the **price_range** is.\n",
    "\n",
    "The function **train_test_split** from module **sklearn.model_selection** accepts multiple parameters. We have:\n",
    "- **test_size** which indicates the percentage of data to use for testing and the remaining for training. For example, if we set test_size=0.2, this means that we'll split our data with 80% for training and 20% for testing. This parameter accepts a number between 0.0 and 1.0. Alternatively, you can use **train_size** to indicate the size of data of training and the remaining for testing.\n",
    "- **random_state** is used to control the random action so we can reproduce it identically many time as we want. This parameter is used only if the parameter **shuffle** is set to **True**. By default, it's **True**\n",
    "\n",
    "To know more about the other parameters accepted by **train_test_split**, read the [scikit-learn documentation on this part](https://scikit-learn.org/stable/glossary.html#term-random_state)"
   ]
  },
  {
   "cell_type": "code",
   "execution_count": 5,
   "id": "15d5222f-0004-4c91-9884-d6f44be36c96",
   "metadata": {},
   "outputs": [],
   "source": [
    "from sklearn.model_selection import train_test_split\n",
    "\n",
    "X_train, X_test, y_train, y_test = train_test_split(X, y, test_size=0.3, random_state=38, stratify=y)"
   ]
  },
  {
   "cell_type": "markdown",
   "id": "e6115769-18c3-4f95-b591-162b6a9b3b72",
   "metadata": {
    "tags": []
   },
   "source": [
    "## 3. Let's fit our model with KNN algorithm\n",
    "The KNN algorithm has multiple optional parameters where one of the most important is **n_neighbors** which indicate the number of neighbors to choose. By default, this parameter is 5. For now, we'll choose this parameter randomly and hope this will give us better accuracy."
   ]
  },
  {
   "cell_type": "code",
   "execution_count": 6,
   "id": "1f6e4a98-2717-44d2-afbb-e91bf86f82d1",
   "metadata": {},
   "outputs": [
    {
     "data": {
      "text/plain": [
       "KNeighborsClassifier(n_neighbors=4)"
      ]
     },
     "execution_count": 6,
     "metadata": {},
     "output_type": "execute_result"
    }
   ],
   "source": [
    "from sklearn.neighbors import KNeighborsClassifier\n",
    "\n",
    "knn = KNeighborsClassifier(n_neighbors=4)\n",
    "\n",
    "knn.fit(X_train,y_train)"
   ]
  },
  {
   "cell_type": "markdown",
   "id": "a70f2597-d7c2-4d9b-adc7-a1f07ac4d166",
   "metadata": {},
   "source": [
    "## 4. Let's compute the accuracy"
   ]
  },
  {
   "cell_type": "code",
   "execution_count": 7,
   "id": "1c83c478-74f5-48bf-84f8-4f97c289f297",
   "metadata": {},
   "outputs": [
    {
     "data": {
      "text/plain": [
       "0.8883333333333333"
      ]
     },
     "execution_count": 7,
     "metadata": {},
     "output_type": "execute_result"
    }
   ],
   "source": [
    "knn.score(X_test, y_test)"
   ]
  },
  {
   "cell_type": "markdown",
   "id": "8ae44410-05c4-4972-b9cd-109ef21944cf",
   "metadata": {},
   "source": [
    "If we use 4 as n_neighbors, we have 88.33% of accuracy. We randomly choose this number and we are not sure this value gives us the better result possible. For that, we can test many values and choose the one which provides us good results or we can use certain methods that will help us to find the better parameter: **it is what we call hyperparameter tuning**"
   ]
  },
  {
   "cell_type": "markdown",
   "id": "4c543e06-e897-46cc-af03-d421f86ac7bd",
   "metadata": {},
   "source": [
    "## 5. Hyperparameter tuning\n",
    "To find the best parameter for our model, we can use **Grid Search** or **Random Search**.\n",
    "\n",
    "### 5.1. Grid Search"
   ]
  },
  {
   "cell_type": "code",
   "execution_count": 9,
   "id": "b60b0ee6-8705-4900-acd5-5f899a2abad7",
   "metadata": {},
   "outputs": [
    {
     "data": {
      "text/plain": [
       "{'n_neighbors': 13}"
      ]
     },
     "execution_count": 9,
     "metadata": {},
     "output_type": "execute_result"
    }
   ],
   "source": [
    "from sklearn.model_selection import GridSearchCV\n",
    "import numpy as np\n",
    "\n",
    "knn = KNeighborsClassifier()\n",
    "param_grid = {\"n_neighbors\": np.arange(1,50)}\n",
    "knn_cv = GridSearchCV(knn, param_grid, cv=5)\n",
    "knn_cv.fit(X_test,y_test)\n",
    "knn_cv.best_params_"
   ]
  },
  {
   "cell_type": "markdown",
   "id": "053be268-9f2a-452e-a18f-0841cb7f3c0f",
   "metadata": {},
   "source": [
    "Now, we see that in the interval 1 to 50, 13 is the best value for **n_neighbors**. We will use this value to fit our model and calculate to score to look to it's better."
   ]
  },
  {
   "cell_type": "code",
   "execution_count": 10,
   "id": "a14ade56-b762-44e4-8b6f-372420b50590",
   "metadata": {},
   "outputs": [
    {
     "data": {
      "text/plain": [
       "0.9"
      ]
     },
     "execution_count": 20,
     "metadata": {},
     "output_type": "execute_result"
    }
   ],
   "source": [
    "knn = KNeighborsClassifier(n_neighbors=13)\n",
    "knn.fit(X_train,y_train)\n",
    "knn.score(X_test, y_test)"
   ]
  },
  {
   "cell_type": "markdown",
   "id": "b1f5bd84-37d7-42a9-99f1-919de97267d2",
   "metadata": {},
   "source": [
    "With this value, we have an accuracy of 90.83%. Better than with the value 4 as n_neighbors. Now we'll try to reduce to the interval where we search the better parameter to look if we can get better accuracy."
   ]
  },
  {
   "cell_type": "code",
   "execution_count": 12,
   "id": "7a565fbd-9ca2-4d2c-be99-d60283d1b12b",
   "metadata": {},
   "outputs": [
    {
     "data": {
      "text/plain": [
       "{'n_neighbors': 5}"
      ]
     },
     "execution_count": 12,
     "metadata": {},
     "output_type": "execute_result"
    }
   ],
   "source": [
    "knn = KNeighborsClassifier()\n",
    "param_grid = {\"n_neighbors\": np.arange(1,10)}\n",
    "knn_cv = GridSearchCV(knn, param_grid, cv=5)\n",
    "knn_cv.fit(X_test,y_test)\n",
    "knn_cv.best_params_"
   ]
  },
  {
   "cell_type": "code",
   "execution_count": 13,
   "id": "4766899a-11ad-48ba-80d3-d602f6ca30c1",
   "metadata": {},
   "outputs": [
    {
     "data": {
      "text/plain": [
       "0.9266666666666666"
      ]
     },
     "execution_count": 25,
     "metadata": {},
     "output_type": "execute_result"
    }
   ],
   "source": [
    "knn = KNeighborsClassifier(n_neighbors=5)\n",
    "knn.fit(X_train,y_train)\n",
    "knn.score(X_test, y_test)"
   ]
  },
  {
   "cell_type": "markdown",
   "id": "a1fedc25-3036-46e9-a898-3d9396ada077",
   "metadata": {},
   "source": [
    "We can remark that when we reduce our search interval to 1 to 10, we have an accuracy of 91.33% with the new value of n_neighbors."
   ]
  },
  {
   "cell_type": "markdown",
   "id": "97000198-4cbe-48b3-8834-57b823354726",
   "metadata": {},
   "source": [
    "### 5.2. Random Search"
   ]
  },
  {
   "cell_type": "code",
   "execution_count": 24,
   "id": "0decfdcb-a81f-4e98-80c4-84038d07f8d2",
   "metadata": {},
   "outputs": [
    {
     "data": {
      "text/plain": [
       "{'n_neighbors': 9}"
      ]
     },
     "execution_count": 24,
     "metadata": {},
     "output_type": "execute_result"
    }
   ],
   "source": [
    "from sklearn.model_selection import RandomizedSearchCV\n",
    "\n",
    "knn = KNeighborsClassifier()\n",
    "param_grid = {\"n_neighbors\": np.arange(1,50)}\n",
    "knn_cv = RandomizedSearchCV(knn, param_grid, cv=5)\n",
    "knn_cv.fit(X_test,y_test)\n",
    "knn_cv.best_params_"
   ]
  },
  {
   "cell_type": "markdown",
   "id": "06624b50-2c7a-42ce-a676-2a6a5e8e4672",
   "metadata": {},
   "source": [
    "With randomizedSearchCV, we have **9** as n_neighbors and this value gives us an accuracy of **92.66%**."
   ]
  },
  {
   "cell_type": "markdown",
   "id": "9499bddc-84ed-43de-951d-66fd57e368d7",
   "metadata": {
    "tags": []
   },
   "source": [
    "## 6. Final code\n",
    "We have built our model and now we can use it to predict a price range for the unseen data."
   ]
  },
  {
   "cell_type": "code",
   "execution_count": 26,
   "id": "33f37dff-ab3b-43f3-9a2c-35b8a55275c2",
   "metadata": {},
   "outputs": [
    {
     "data": {
      "text/plain": [
       "0.9266666666666666"
      ]
     },
     "execution_count": 26,
     "metadata": {},
     "output_type": "execute_result"
    }
   ],
   "source": [
    "import pandas as pd\n",
    "from sklearn.model_selection import train_test_split\n",
    "from sklearn.neighbors import KNeighborsClassifier\n",
    "\n",
    "data = pd.read_csv('train.csv')\n",
    "X = data.drop(columns=\"price_range\")\n",
    "y = data['price_range']\n",
    "\n",
    "X_train, X_test, y_train, y_test = train_test_split(X, y, test_size=0.3, random_state=38, stratify=y)\n",
    "\n",
    "knn = KNeighborsClassifier(n_neighbors=9)\n",
    "knn.fit(X_train,y_train)\n",
    "knn.score(X_test, y_test)"
   ]
  },
  {
   "cell_type": "code",
   "execution_count": null,
   "id": "f6b199ec-202b-4dad-bd76-f9aba0858c42",
   "metadata": {},
   "outputs": [],
   "source": []
  }
 ],
 "metadata": {
  "kernelspec": {
   "display_name": "Python 3 (ipykernel)",
   "language": "python",
   "name": "python3"
  },
  "language_info": {
   "codemirror_mode": {
    "name": "ipython",
    "version": 3
   },
   "file_extension": ".py",
   "mimetype": "text/x-python",
   "name": "python",
   "nbconvert_exporter": "python",
   "pygments_lexer": "ipython3",
   "version": "3.8.10"
  }
 },
 "nbformat": 4,
 "nbformat_minor": 5
}
